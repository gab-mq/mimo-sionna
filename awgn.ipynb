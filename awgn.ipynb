{
 "cells": [
  {
   "cell_type": "code",
   "execution_count": null,
   "metadata": {},
   "outputs": [],
   "source": [
    "import sionna as sn\n",
    "import matplotlib.pyplot as plt\n",
    "import numpy as np\n",
    "import tensorflow as tf"
   ]
  },
  {
   "cell_type": "code",
   "execution_count": null,
   "metadata": {},
   "outputs": [],
   "source": [
    "BATCH_SIZE = 1000\n",
    "NUM_BITS_PER_SYMBOL = 4\n",
    "CODERATE = 0.5\n",
    "NUM_CODED_BITS = 1000\n",
    "NUM_INFO_BITS = int(NUM_CODED_BITS * CODERATE)"
   ]
  },
  {
   "cell_type": "code",
   "execution_count": null,
   "metadata": {},
   "outputs": [],
   "source": [
    "class AWGNModel(tf.keras.Model):\n",
    "    \n",
    "    def __init__(self, coding_type=False):\n",
    "        super().__init__()\n",
    "\n",
    "        self.coding_type = coding_type\n",
    "\n",
    "        self.binary_source = sn.utils.BinarySource()\n",
    "\n",
    "        constellation = sn.mapping.Constellation('qam', NUM_BITS_PER_SYMBOL)\n",
    "\n",
    "        self.mapper = sn.mapping.Mapper(constellation=constellation)\n",
    "        self.demapper = sn.mapping.Demapper('app', constellation=constellation)\n",
    "\n",
    "        self.ldpc_encoder = sn.fec.ldpc.LDPC5GEncoder(NUM_INFO_BITS, NUM_CODED_BITS)\n",
    "        self.ldpc_decoder = sn.fec.ldpc.LDPC5GDecoder(encoder=self.ldpc_encoder, hard_out=True)\n",
    "\n",
    "        self.polar_encoder = sn.fec.polar.Polar5GEncoder(NUM_INFO_BITS, NUM_CODED_BITS)\n",
    "        self.polar_decoder = sn.fec.polar.Polar5GDecoder(self.polar_encoder, dec_type='SC')\n",
    "\n",
    "        self.channel = sn.channel.AWGN()\n",
    "    \n",
    "    @tf.function\n",
    "    def __call__(self, batch_size, ebno_db):\n",
    "\n",
    "        no = sn.utils.ebnodb2no(\n",
    "            coderate=CODERATE,\n",
    "            ebno_db=ebno_db,\n",
    "            num_bits_per_symbol=NUM_BITS_PER_SYMBOL,\n",
    "        )\n",
    "\n",
    "        bits = self.binary_source([batch_size, NUM_INFO_BITS])\n",
    "\n",
    "        if self.coding_type == 'ldpc':\n",
    "            coded_bits = self.ldpc_encoder(bits)\n",
    "        elif self.coding_type == 'polar':\n",
    "            coded_bits = self.polar_encoder(bits)\n",
    "        else:\n",
    "            coded_bits = bits\n",
    "\n",
    "        symbols = self.mapper(coded_bits)\n",
    "\n",
    "        received_symbols = self.channel([symbols, no])\n",
    "\n",
    "        llr = self.demapper([received_symbols, no])\n",
    "\n",
    "        if self.coding_type == 'ldpc':\n",
    "            bits_hat = self.ldpc_decoder(llr)\n",
    "        elif self.coding_type == 'polar':\n",
    "            bits_hat = self.polar_decoder(llr)\n",
    "        else:\n",
    "            bits_hat = llr\n",
    "\n",
    "\n",
    "        return bits, bits_hat"
   ]
  },
  {
   "cell_type": "code",
   "execution_count": null,
   "metadata": {},
   "outputs": [],
   "source": [
    "ber_plots = sn.utils.PlotBER('Canal AWGN')\n",
    "EBNO_DBS = np.linspace(-5,10,16)"
   ]
  },
  {
   "cell_type": "code",
   "execution_count": null,
   "metadata": {},
   "outputs": [],
   "source": [
    "no_coding_model = AWGNModel()\n",
    "\n",
    "ber_plots.simulate(\n",
    "    no_coding_model,\n",
    "    batch_size=BATCH_SIZE,\n",
    "    ebno_dbs=EBNO_DBS,\n",
    "    num_target_bit_errors=1000,\n",
    "    legend='Sem codificação',\n",
    "    soft_estimates=True,\n",
    "    max_mc_iter=100,\n",
    "    show_fig=False\n",
    ");"
   ]
  },
  {
   "cell_type": "code",
   "execution_count": null,
   "metadata": {},
   "outputs": [],
   "source": [
    "ldpc_coding_model = AWGNModel('ldpc')\n",
    "\n",
    "ber_plots.simulate(\n",
    "    ldpc_coding_model,\n",
    "    batch_size=BATCH_SIZE,\n",
    "    ebno_dbs=EBNO_DBS,\n",
    "    num_target_bit_errors=1000,\n",
    "    legend='LDPC',\n",
    "    soft_estimates=True,\n",
    "    max_mc_iter=100,\n",
    "    show_fig=False\n",
    ");"
   ]
  },
  {
   "cell_type": "code",
   "execution_count": null,
   "metadata": {},
   "outputs": [],
   "source": [
    "polar_coding_model = AWGNModel('polar')\n",
    "\n",
    "ber_plots.simulate(\n",
    "    polar_coding_model,\n",
    "    batch_size=BATCH_SIZE,\n",
    "    ebno_dbs=EBNO_DBS,\n",
    "    num_target_bit_errors=1000,\n",
    "    legend='Polar',\n",
    "    soft_estimates=True,\n",
    "    max_mc_iter=100,\n",
    "    show_fig=False\n",
    ");"
   ]
  },
  {
   "cell_type": "code",
   "execution_count": null,
   "metadata": {},
   "outputs": [],
   "source": [
    "ber_plots()"
   ]
  }
 ],
 "metadata": {
  "kernelspec": {
   "display_name": "Python 3",
   "language": "python",
   "name": "python3"
  },
  "language_info": {
   "codemirror_mode": {
    "name": "ipython",
    "version": 3
   },
   "file_extension": ".py",
   "mimetype": "text/x-python",
   "name": "python",
   "nbconvert_exporter": "python",
   "pygments_lexer": "ipython3",
   "version": "3.10.6"
  },
  "orig_nbformat": 4
 },
 "nbformat": 4,
 "nbformat_minor": 2
}
