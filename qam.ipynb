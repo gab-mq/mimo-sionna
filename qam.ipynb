{
 "cells": [
  {
   "cell_type": "code",
   "execution_count": null,
   "metadata": {},
   "outputs": [],
   "source": [
    "import matplotlib.pyplot as plt\n",
    "import numpy as np\n",
    "\n",
    "x = np.linspace(-3,3,4)*.75\n",
    "\n",
    "bits = [\n",
    "    '0000',\n",
    "    '0001',\n",
    "    '0011',\n",
    "    '0010',\n",
    "\n",
    "    '0100',\n",
    "    '0101',\n",
    "    '0111',\n",
    "    '0110',\n",
    "    \n",
    "    '1100',\n",
    "    '1101',\n",
    "    '1111',\n",
    "    '1110',\n",
    "    \n",
    "    '1000',\n",
    "    '1001',\n",
    "    '1011',\n",
    "    '1010',\n",
    "]\n",
    "\n",
    "[X,Y] = np.meshgrid(x,x)\n",
    "\n",
    "plt.figure(figsize=(4,4))\n",
    "plt.grid()\n",
    "plt.xlabel('Fase')\n",
    "plt.ylabel('Quadratura')\n",
    "for i in range(16):\n",
    "    plt.text(X[i//4, i%4], Y[i//4, i%4], s=bits[i], )\n",
    "plt.title('4-QAM')\n",
    "\n",
    "plt.scatter(X,Y,c='blue')"
   ]
  }
 ],
 "metadata": {
  "kernelspec": {
   "display_name": "Python 3",
   "language": "python",
   "name": "python3"
  },
  "language_info": {
   "codemirror_mode": {
    "name": "ipython",
    "version": 3
   },
   "file_extension": ".py",
   "mimetype": "text/x-python",
   "name": "python",
   "nbconvert_exporter": "python",
   "pygments_lexer": "ipython3",
   "version": "3.10.6"
  },
  "orig_nbformat": 4
 },
 "nbformat": 4,
 "nbformat_minor": 2
}
