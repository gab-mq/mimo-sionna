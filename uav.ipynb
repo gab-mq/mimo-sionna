{
 "cells": [
  {
   "cell_type": "code",
   "execution_count": null,
   "metadata": {},
   "outputs": [],
   "source": [
    "import sionna as sn\n",
    "import numpy as np\n",
    "import tensorflow as tf"
   ]
  },
  {
   "cell_type": "code",
   "execution_count": null,
   "metadata": {},
   "outputs": [],
   "source": [
    "BATCH_SIZE = 300"
   ]
  },
  {
   "cell_type": "code",
   "execution_count": null,
   "metadata": {},
   "outputs": [],
   "source": [
    "class CellModel(tf.keras.Model):\n",
    "    \n",
    "    def __init__(self, scenario='umi', los=None, ground_users=False, num_bs_ant=8):\n",
    "\n",
    "        super().__init__()\n",
    "\n",
    "        self.NUM_BS_ANT = num_bs_ant\n",
    "        self.NUM_UT = 8\n",
    "        self.NUM_STREAMS_PER_TX = 2\n",
    "\n",
    "        self.NUM_BITS_PER_SYMBOL = 4\n",
    "        self.CODERATE = 0.5\n",
    "\n",
    "        self.BS_HEIGHT = 15.0\n",
    "\n",
    "\n",
    "        self.CARRIER_FREQUENCY = 1.9e9\n",
    "\n",
    "        if ground_users:\n",
    "            self.MAX_UT_HEIGHT = 2.0\n",
    "            self.MIN_UT_HEIGHT = 1.0\n",
    "        else:\n",
    "            self.MAX_UT_HEIGHT = 300\n",
    "            self.MIN_UT_HEIGHT = 20.0\n",
    "\n",
    "        self.rx_tx_association = np.ones([1, self.NUM_UT])\n",
    "\n",
    "        self.stream_management = sn.mimo.StreamManagement(\n",
    "            rx_tx_association=self.rx_tx_association,\n",
    "            num_streams_per_tx=self.NUM_STREAMS_PER_TX \n",
    "        )\n",
    "\n",
    "        self.resource_grid = sn.ofdm.ResourceGrid(\n",
    "            num_ofdm_symbols=11,\n",
    "            fft_size=16,\n",
    "            subcarrier_spacing=5e3,\n",
    "            num_tx=self.NUM_UT,\n",
    "            num_streams_per_tx=self.NUM_STREAMS_PER_TX,\n",
    "            cyclic_prefix_length=6,\n",
    "            pilot_pattern=\"kronecker\",\n",
    "            pilot_ofdm_symbol_indices=[1,9]\n",
    "        )\n",
    "\n",
    "        self.resource_grid_mapper = sn.ofdm.ResourceGridMapper(resource_grid=self.resource_grid)\n",
    "        self.frequencies = sn.channel.subcarrier_frequencies(\n",
    "            num_subcarriers=self.resource_grid.fft_size,\n",
    "            subcarrier_spacing=self.resource_grid.subcarrier_spacing\n",
    "        )\n",
    "\n",
    "        NUM_CODED_BITS = int(self.resource_grid.num_data_symbols * self.NUM_BITS_PER_SYMBOL)\n",
    "        self.NUM_INFO_BITS = int(NUM_CODED_BITS * self.CODERATE)\n",
    "\n",
    "        self.binary_source = sn.utils.BinarySource()\n",
    "\n",
    "        constellation = sn.mapping.Constellation('qam', self.NUM_BITS_PER_SYMBOL)\n",
    "        self.mapper = sn.mapping.Mapper(constellation=constellation)\n",
    "        self.demapper = sn.mapping.Demapper('app', constellation=constellation)\n",
    "\n",
    "        self.encoder = sn.fec.ldpc.LDPC5GEncoder(self.NUM_INFO_BITS, NUM_CODED_BITS)\n",
    "        self.decoder = sn.fec.ldpc.LDPC5GDecoder(encoder=self.encoder, hard_out=True)\n",
    "\n",
    "        self.ls_est = sn.ofdm.LSChannelEstimator(resource_grid=self.resource_grid, interpolation_type='nn')\n",
    "\n",
    "        self.lmmse_equ = sn.ofdm.LMMSEEqualizer(resource_grid=self.resource_grid, stream_management=self.stream_management)\n",
    "\n",
    "        self.channel_freq = sn.channel.ApplyOFDMChannel(add_awgn=True)\n",
    "\n",
    "        self.ut_array = sn.channel.tr38901.Antenna(\n",
    "            polarization='dual',\n",
    "            polarization_type='cross',\n",
    "            antenna_pattern='omni',\n",
    "            carrier_frequency=self.CARRIER_FREQUENCY\n",
    "        )\n",
    "\n",
    "        self.bs_array = sn.channel.tr38901.AntennaArray(\n",
    "            num_rows=1,\n",
    "            num_cols=self.NUM_BS_ANT,\n",
    "            polarization='dual',\n",
    "            polarization_type='cross',\n",
    "            antenna_pattern='38.901',\n",
    "            carrier_frequency=self.CARRIER_FREQUENCY\n",
    "        )\n",
    "\n",
    "        topology = sn.channel.gen_single_sector_topology(\n",
    "            batch_size=BATCH_SIZE,\n",
    "            indoor_probability=0,\n",
    "            num_ut=self.NUM_UT,\n",
    "            scenario=scenario,\n",
    "            bs_height=self.BS_HEIGHT,\n",
    "            max_ut_height=self.MAX_UT_HEIGHT,\n",
    "            min_ut_height=self.MIN_UT_HEIGHT\n",
    "        )\n",
    "\n",
    "        if scenario == 'umi':\n",
    "            self.channel_model = sn.channel.tr38901.UMi(\n",
    "                carrier_frequency=self.CARRIER_FREQUENCY,\n",
    "                o2i_model='low',\n",
    "                ut_array=self.ut_array,\n",
    "                bs_array=self.bs_array,\n",
    "                direction='uplink',\n",
    "                enable_pathloss=True,\n",
    "                enable_shadow_fading=True\n",
    "            )\n",
    "        elif scenario == 'uma':\n",
    "            self.channel_model = sn.channel.tr38901.UMa(\n",
    "                carrier_frequency=self.CARRIER_FREQUENCY,\n",
    "                o2i_model=\"low\",\n",
    "                ut_array=self.ut_array,\n",
    "                bs_array=self.bs_array,\n",
    "                direction='uplink',\n",
    "                enable_pathloss=True,\n",
    "                enable_shadow_fading=True\n",
    "            )\n",
    "    \n",
    "        self.channel_model.set_topology(*topology, los=los)\n",
    "\n",
    "    @tf.function\n",
    "    def __call__(self, batch_size, ebno_db):\n",
    "\n",
    "        no = sn.utils.ebnodb2no(\n",
    "            coderate=self.CODERATE,\n",
    "            num_bits_per_symbol=self.NUM_BITS_PER_SYMBOL,\n",
    "            resource_grid=self.resource_grid,\n",
    "            ebno_db=ebno_db\n",
    "        ) \n",
    "\n",
    "        bits = self.binary_source([\n",
    "            batch_size,\n",
    "            self.NUM_UT,\n",
    "            self.resource_grid.num_streams_per_tx,\n",
    "            self.NUM_INFO_BITS\n",
    "        ])\n",
    "        coded_bits = self.encoder(bits)\n",
    "        qam_symbols = self.mapper(coded_bits)\n",
    "        ofdm_symbols = self.resource_grid_mapper(qam_symbols)\n",
    "\n",
    "        a, tau = self.channel_model(\n",
    "            num_time_samples=self.resource_grid.num_ofdm_symbols,\n",
    "            sampling_frequency=1/self.resource_grid.ofdm_symbol_duration\n",
    "        )\n",
    "        h_freq = sn.channel.cir_to_ofdm_channel(\n",
    "            frequencies=self.frequencies,\n",
    "            a=a,\n",
    "            tau=tau,\n",
    "            normalize=True\n",
    "        )\n",
    "        received_symbols = self.channel_freq([ofdm_symbols, h_freq, no])\n",
    "        estimation, err_var = self.ls_est([received_symbols, no])\n",
    "        equalized_symbols, no_eff = self.lmmse_equ([ received_symbols, estimation, err_var, no])\n",
    "        llr = self.demapper([equalized_symbols, no_eff])\n",
    "        bits_hat = self.decoder(llr)\n",
    "\n",
    "        return bits, bits_hat\n",
    "                "
   ]
  },
  {
   "cell_type": "code",
   "execution_count": null,
   "metadata": {},
   "outputs": [],
   "source": [
    "ber_plots = sn.utils.PlotBER('UAV Simulation')\n",
    "\n",
    "umi_uav = CellModel('umi', los=True)\n",
    "uma_uav = CellModel('uma', los=True)\n",
    "umi_ground_los = CellModel('umi', ground_users=True, los=True)\n",
    "uma_ground_los = CellModel('uma', ground_users=True, los=True)\n",
    "umi_ground_nlos = CellModel('umi', ground_users=True, los=False)\n",
    "uma_ground_nlos = CellModel('uma', ground_users=True, los=False)"
   ]
  },
  {
   "cell_type": "code",
   "execution_count": null,
   "metadata": {},
   "outputs": [],
   "source": [
    "umi_uav.channel_model.show_topology();\n",
    "umi_ground_nlos.channel_model.show_topology();"
   ]
  },
  {
   "cell_type": "code",
   "execution_count": null,
   "metadata": {},
   "outputs": [],
   "source": [
    "ber_plots.simulate(\n",
    "  umi_uav,\n",
    "  batch_size=BATCH_SIZE,\n",
    "  ebno_dbs=np.linspace(-5,10,16),\n",
    "  num_target_bit_errors=1000,\n",
    "  legend='UAV com UMi',\n",
    "  soft_estimates=False,\n",
    "  max_mc_iter=1000,\n",
    "  show_fig=False\n",
    ")"
   ]
  },
  {
   "cell_type": "code",
   "execution_count": null,
   "metadata": {},
   "outputs": [],
   "source": [
    "ber_plots.simulate(\n",
    "  uma_uav,\n",
    "  batch_size=BATCH_SIZE,\n",
    "  ebno_dbs=np.linspace(-5,10,16),\n",
    "  num_target_bit_errors=1000,\n",
    "  legend='UAV com UMa',\n",
    "  soft_estimates=False,\n",
    "  max_mc_iter=1000,\n",
    "  show_fig=False\n",
    ")"
   ]
  },
  {
   "cell_type": "code",
   "execution_count": null,
   "metadata": {},
   "outputs": [],
   "source": [
    "ber_plots.simulate(\n",
    "  umi_ground_los,\n",
    "  batch_size=BATCH_SIZE,\n",
    "  ebno_dbs=np.linspace(-5,10,16),\n",
    "  num_target_bit_errors=1000,\n",
    "  legend='Solo com UMi e LOS',\n",
    "  soft_estimates=False,\n",
    "  max_mc_iter=1000,\n",
    "  show_fig=False\n",
    ")"
   ]
  },
  {
   "cell_type": "code",
   "execution_count": null,
   "metadata": {},
   "outputs": [],
   "source": [
    "ber_plots.simulate(\n",
    "  uma_ground_los,\n",
    "  batch_size=BATCH_SIZE,\n",
    "  ebno_dbs=np.linspace(-5,10,16),\n",
    "  num_target_bit_errors=1000,\n",
    "  legend='Solo com UMa e LOS',\n",
    "  soft_estimates=False,\n",
    "  max_mc_iter=1000,\n",
    "  show_fig=False\n",
    ")"
   ]
  },
  {
   "cell_type": "code",
   "execution_count": null,
   "metadata": {},
   "outputs": [],
   "source": [
    "ber_plots.simulate(\n",
    "  umi_ground_nlos,\n",
    "  batch_size=BATCH_SIZE,\n",
    "  ebno_dbs=np.linspace(-5,10,16),\n",
    "  num_target_bit_errors=1000,\n",
    "  legend='Solo com UMi e NLOS',\n",
    "  soft_estimates=False,\n",
    "  max_mc_iter=1000,\n",
    "  show_fig=False\n",
    ")"
   ]
  },
  {
   "cell_type": "code",
   "execution_count": null,
   "metadata": {},
   "outputs": [],
   "source": [
    "ber_plots.simulate(\n",
    "  uma_ground_nlos,\n",
    "  batch_size=BATCH_SIZE,\n",
    "  ebno_dbs=np.linspace(-5,10,16),\n",
    "  num_target_bit_errors=1000,\n",
    "  legend='Solo com UMa e NLOS',\n",
    "  soft_estimates=False,\n",
    "  max_mc_iter=1000,\n",
    "  show_fig=False\n",
    ")"
   ]
  },
  {
   "cell_type": "code",
   "execution_count": null,
   "metadata": {},
   "outputs": [],
   "source": [
    "ber_plots();"
   ]
  },
  {
   "cell_type": "code",
   "execution_count": null,
   "metadata": {},
   "outputs": [],
   "source": [
    "ber_plots = sn.utils.PlotBER('Simulação comparação UAV 8 antenas e 16 antenas')\n",
    "\n",
    "umi_uav_16ant = CellModel('umi', los=True, num_bs_ant=16)\n",
    "uma_uav_16ant = CellModel('uma', los=True, num_bs_ant=16)\n",
    "umi_uav_8ant = CellModel('umi', los=True)\n",
    "uma_uav_8ant = CellModel('uma', los=True)"
   ]
  },
  {
   "cell_type": "code",
   "execution_count": null,
   "metadata": {},
   "outputs": [],
   "source": [
    "ber_plots.simulate(\n",
    "  umi_uav_16ant,\n",
    "  batch_size=BATCH_SIZE,\n",
    "  ebno_dbs=np.linspace(-5,10,16),\n",
    "  num_target_bit_errors=1000,\n",
    "  legend='UAV com UMi e 16 antenas',\n",
    "  soft_estimates=False,\n",
    "  max_mc_iter=1000,\n",
    "  show_fig=False\n",
    ")"
   ]
  },
  {
   "cell_type": "code",
   "execution_count": null,
   "metadata": {},
   "outputs": [],
   "source": [
    "ber_plots.simulate(\n",
    "  uma_uav_16ant,\n",
    "  batch_size=BATCH_SIZE,\n",
    "  ebno_dbs=np.linspace(-5,10,16),\n",
    "  num_target_bit_errors=1000,\n",
    "  legend='UAV com UMa e 16 antenas',\n",
    "  soft_estimates=False,\n",
    "  max_mc_iter=1000,\n",
    "  show_fig=False\n",
    ")"
   ]
  },
  {
   "cell_type": "code",
   "execution_count": null,
   "metadata": {},
   "outputs": [],
   "source": [
    "ber_plots.simulate(\n",
    "  umi_uav_8ant,\n",
    "  batch_size=BATCH_SIZE,\n",
    "  ebno_dbs=np.linspace(-5,10,16),\n",
    "  num_target_bit_errors=1000,\n",
    "  legend='UAV com UMi e 8 antenas',\n",
    "  soft_estimates=False,\n",
    "  max_mc_iter=1000,\n",
    "  show_fig=False\n",
    ")"
   ]
  },
  {
   "cell_type": "code",
   "execution_count": null,
   "metadata": {},
   "outputs": [],
   "source": [
    "ber_plots.simulate(\n",
    "  uma_uav_8ant,\n",
    "  batch_size=BATCH_SIZE,\n",
    "  ebno_dbs=np.linspace(-5,10,16),\n",
    "  num_target_bit_errors=1000,\n",
    "  legend='UAV com UMa e 8 antenas',\n",
    "  soft_estimates=False,\n",
    "  max_mc_iter=1000,\n",
    "  show_fig=False\n",
    ")"
   ]
  },
  {
   "cell_type": "code",
   "execution_count": null,
   "metadata": {},
   "outputs": [],
   "source": [
    "ber_plots();"
   ]
  },
  {
   "cell_type": "code",
   "execution_count": null,
   "metadata": {},
   "outputs": [],
   "source": [
    "ber_plots = sn.utils.PlotBER('Simulação UAV com 16 antenas')\n",
    "\n",
    "umi_uav_16ant = CellModel('umi', los=True, num_bs_ant=16)\n",
    "uma_uav_16ant = CellModel('uma', los=True, num_bs_ant=16)\n",
    "umi_ground_16ant = CellModel('umi', los=False,  ground_users=True, num_bs_ant=16)\n",
    "uma_ground_16ant = CellModel('uma', los=False,  ground_users=True, num_bs_ant=16)"
   ]
  },
  {
   "cell_type": "code",
   "execution_count": null,
   "metadata": {},
   "outputs": [],
   "source": [
    "ber_plots.simulate(\n",
    "  umi_uav_16ant,\n",
    "  batch_size=BATCH_SIZE,\n",
    "  ebno_dbs=np.linspace(-5,10,16),\n",
    "  num_target_bit_errors=1000,\n",
    "  legend='UAV com UMi',\n",
    "  soft_estimates=False,\n",
    "  max_mc_iter=1000,\n",
    "  show_fig=False\n",
    ")"
   ]
  },
  {
   "cell_type": "code",
   "execution_count": null,
   "metadata": {},
   "outputs": [],
   "source": [
    "ber_plots.simulate(\n",
    "  uma_uav_16ant,\n",
    "  batch_size=BATCH_SIZE,\n",
    "  ebno_dbs=np.linspace(-5,10,16),\n",
    "  num_target_bit_errors=1000,\n",
    "  legend='UAV com UMa',\n",
    "  soft_estimates=False,\n",
    "  max_mc_iter=1000,\n",
    "  show_fig=False\n",
    ")"
   ]
  },
  {
   "cell_type": "code",
   "execution_count": null,
   "metadata": {},
   "outputs": [],
   "source": [
    "ber_plots.simulate(\n",
    "  umi_ground_16ant,\n",
    "  batch_size=BATCH_SIZE,\n",
    "  ebno_dbs=np.linspace(-5,10,16),\n",
    "  num_target_bit_errors=1000,\n",
    "  legend='Solo com UMi',\n",
    "  soft_estimates=False,\n",
    "  max_mc_iter=100,\n",
    "  show_fig=False\n",
    ")"
   ]
  },
  {
   "cell_type": "code",
   "execution_count": null,
   "metadata": {},
   "outputs": [],
   "source": [
    "ber_plots.simulate(\n",
    "  uma_ground_16ant,\n",
    "  batch_size=BATCH_SIZE,\n",
    "  ebno_dbs=np.linspace(-5,10,16),\n",
    "  num_target_bit_errors=1000,\n",
    "  legend='Solo com UMa',\n",
    "  soft_estimates=False,\n",
    "  max_mc_iter=100,\n",
    "  show_fig=False\n",
    ")"
   ]
  },
  {
   "cell_type": "code",
   "execution_count": null,
   "metadata": {},
   "outputs": [],
   "source": [
    "ber_plots()"
   ]
  }
 ],
 "metadata": {
  "kernelspec": {
   "display_name": "Python 3",
   "language": "python",
   "name": "python3"
  },
  "language_info": {
   "codemirror_mode": {
    "name": "ipython",
    "version": 3
   },
   "file_extension": ".py",
   "mimetype": "text/x-python",
   "name": "python",
   "nbconvert_exporter": "python",
   "pygments_lexer": "ipython3",
   "version": "3.10.6"
  },
  "orig_nbformat": 4
 },
 "nbformat": 4,
 "nbformat_minor": 2
}
